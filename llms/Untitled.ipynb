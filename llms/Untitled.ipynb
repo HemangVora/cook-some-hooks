{
 "cells": [
  {
   "cell_type": "code",
   "execution_count": 102,
   "id": "abb0dd27-39ba-4141-82ad-d1f9db25d94c",
   "metadata": {},
   "outputs": [
    {
     "data": {
      "text/plain": [
       "True"
      ]
     },
     "execution_count": 102,
     "metadata": {},
     "output_type": "execute_result"
    }
   ],
   "source": [
    "from openai import OpenAI\n",
    "import os\n",
    "from dotenv import load_dotenv, find_dotenv\n",
    "from IPython.display import display, Markdown\n",
    "import tiktoken\n",
    "import os\n",
    "\n",
    "load_dotenv(find_dotenv())"
   ]
  },
  {
   "cell_type": "code",
   "execution_count": 103,
   "id": "5d0cf4dd-350d-4207-b1fe-c882b5e3c5ec",
   "metadata": {},
   "outputs": [
    {
     "name": "stdout",
     "output_type": "stream",
     "text": [
      "[TextBlock(text=\"Hello! It's nice to meet you. How can I assist you today?\", type='text')]\n"
     ]
    }
   ],
   "source": [
    "import os\n",
    "from anthropic import Anthropic\n",
    "\n",
    "client = Anthropic(\n",
    "    # This is the default and can be omitted\n",
    "    api_key=os.environ.get(\"ANTHROPIC_API_KEY\"),\n",
    ")\n"
   ]
  },
  {
   "cell_type": "code",
   "execution_count": 129,
   "id": "b8e5b97c-355f-4290-a376-41df4268e074",
   "metadata": {},
   "outputs": [],
   "source": [
    "OpenAI_client = OpenAI(api_key=os.environ.get(\"OPENAI_API_KEY\"))\n",
    "Anthropic_client = Anthropic(api_key=os.environ.get(\"ANTHROPIC_API_KEY\"),\n",
    ")"
   ]
  },
  {
   "cell_type": "code",
   "execution_count": 137,
   "id": "657e182d-70fe-4765-a9ef-94a09c4265f8",
   "metadata": {},
   "outputs": [],
   "source": [
    "def get_n_tokens(text):\n",
    "    enc = tiktoken.encoding_for_model(\"gpt-4o\")\n",
    "    return len(enc.encode(text))\n",
    "\n",
    "def get_openai_answer(instructions, prompt):\n",
    "    completion = OpenAI_client.chat.completions.create(\n",
    "      model=\"gpt-4o\",\n",
    "      messages=[\n",
    "        {\"role\": \"system\", \"content\": instructions},\n",
    "        {\"role\": \"user\", \"content\": prompt}\n",
    "      ]\n",
    "    )\n",
    "    return completion.choices[0].message.content\n",
    "\n",
    "def get_claude_answer(instructions, prompt):\n",
    "    message = client.messages.create(\n",
    "        max_tokens=1024,\n",
    "        system = instructions,\n",
    "        messages=[\n",
    "            {\"role\": \"user\", \"content\": prompt}\n",
    "        ],\n",
    "        model=\"claude-3-5-sonnet-20240620\",\n",
    "        )\n",
    "    return message.content[0].text\n",
    "\n",
    "def read_file(file_path):\n",
    "    try:\n",
    "        with open(file_path, 'r') as file:\n",
    "            content = file.read()\n",
    "        return content\n",
    "    except FileNotFoundError:\n",
    "        return \"File not found.\"\n",
    "\n",
    "def read_all_files_in_folder(folder_path):\n",
    "    contents_list = []\n",
    "    for filename in os.listdir(folder_path):\n",
    "        file_path = os.path.join(folder_path, filename)\n",
    "        if os.path.isfile(file_path):\n",
    "            with open(file_path, 'r') as file:\n",
    "                contents = file.read()\n",
    "                contents_list.append(contents)\n",
    "    return contents_list\n",
    "\n",
    "def get_cost_dollars(instructions, answer):\n",
    "    input_1k_tokens = 0.005\n",
    "    output_1k_tokens = 0.015\n",
    "    return input_1k_tokens * get_n_tokens(instructions)/1000 + output_1k_tokens * get_n_tokens(answer)/1000\n",
    "\n",
    "def render_markdown(text):\n",
    "    display(Markdown(text))"
   ]
  },
  {
   "cell_type": "code",
   "execution_count": 138,
   "id": "08fc13dd-7590-459e-b204-c291e3e5e91a",
   "metadata": {},
   "outputs": [],
   "source": [
    "\n",
    "file_path = 'instructions.txt'\n",
    "instructions = read_file(file_path)\n",
    "\n",
    "folder_path = 'hook_examples'\n",
    "all_contents = read_all_files_in_folder(folder_path)"
   ]
  },
  {
   "cell_type": "code",
   "execution_count": 139,
   "id": "c1605e8e-7071-48bd-973e-20a99d94bdb6",
   "metadata": {},
   "outputs": [],
   "source": [
    "final_instructions = instructions\n",
    "for idx, content in enumerate(all_contents):\n",
    "     final_instructions += f\"\"\"----------\n",
    "                     HOOK EXAMPLE {idx}:\n",
    "                     {content} \\n\\n\\n\\n\\n\"\"\""
   ]
  },
  {
   "cell_type": "code",
   "execution_count": 140,
   "id": "b3f9317d-35dc-4898-844f-2c9f362a0573",
   "metadata": {},
   "outputs": [
    {
     "data": {
      "text/plain": [
       "14107"
      ]
     },
     "execution_count": 140,
     "metadata": {},
     "output_type": "execute_result"
    }
   ],
   "source": [
    "get_n_tokens(final_instructions)"
   ]
  },
  {
   "cell_type": "code",
   "execution_count": 133,
   "id": "ac4eb3bc-d10b-411d-8fb5-4d7115e438af",
   "metadata": {},
   "outputs": [],
   "source": [
    "prompt = \"I want a hook that sends an erc20 to the swapper (the hook will have a balance)\"\n",
    "\n",
    "#answer = gpt_get_answer(final_instructions, prompt)"
   ]
  },
  {
   "cell_type": "code",
   "execution_count": 134,
   "id": "6b6bdbe8-bbc2-4ff6-9d62-28606d536d06",
   "metadata": {},
   "outputs": [],
   "source": [
    "answer = get_claude_answer(final_instructions, prompt)"
   ]
  },
  {
   "cell_type": "code",
   "execution_count": 126,
   "id": "787db549-74ac-4160-bad1-9abf4c078236",
   "metadata": {},
   "outputs": [
    {
     "data": {
      "text/plain": [
       "0.048205"
      ]
     },
     "execution_count": 126,
     "metadata": {},
     "output_type": "execute_result"
    }
   ],
   "source": [
    "get_cost_dollars(final_instructions, answer)"
   ]
  },
  {
   "cell_type": "code",
   "execution_count": 135,
   "id": "99b5843c-21c4-48fd-8537-748eaf24afc2",
   "metadata": {},
   "outputs": [
    {
     "data": {
      "text/markdown": [
       "Certainly! I'll create a hook that sends an ERC20 token to the swapper after a successful swap. This hook will maintain a balance of the ERC20 token and distribute it to users who perform swaps. Here's an implementation of such a hook:\n",
       "\n",
       "```solidity\n",
       "// SPDX-License-Identifier: MIT\n",
       "pragma solidity ^0.8.20;\n",
       "\n",
       "import {BaseHook} from \"v4-periphery/BaseHook.sol\";\n",
       "import {Hooks} from \"@uniswap/v4-core/contracts/libraries/Hooks.sol\";\n",
       "import {IPoolManager} from \"@uniswap/v4-core/contracts/interfaces/IPoolManager.sol\";\n",
       "import {PoolKey} from \"@uniswap/v4-core/contracts/types/PoolKey.sol\";\n",
       "import {BalanceDelta} from \"@uniswap/v4-core/contracts/types/BalanceDelta.sol\";\n",
       "import {IERC20} from \"@openzeppelin/contracts/token/ERC20/IERC20.sol\";\n",
       "import {SafeERC20} from \"@openzeppelin/contracts/token/ERC20/utils/SafeERC20.sol\";\n",
       "\n",
       "contract RewardHook is BaseHook {\n",
       "    using SafeERC20 for IERC20;\n",
       "\n",
       "    IERC20 public immutable rewardToken;\n",
       "    uint256 public constant REWARD_AMOUNT = 1e18; // 1 token\n",
       "\n",
       "    event RewardSent(address indexed user, uint256 amount);\n",
       "\n",
       "    constructor(IPoolManager _poolManager, IERC20 _rewardToken) BaseHook(_poolManager) {\n",
       "        rewardToken = _rewardToken;\n",
       "    }\n",
       "\n",
       "    function getHookPermissions() public pure override returns (Hooks.Permissions memory) {\n",
       "        return Hooks.Permissions({\n",
       "            beforeInitialize: false,\n",
       "            afterInitialize: false,\n",
       "            beforeAddLiquidity: false,\n",
       "            afterAddLiquidity: false,\n",
       "            beforeRemoveLiquidity: false,\n",
       "            afterRemoveLiquidity: false,\n",
       "            beforeSwap: false,\n",
       "            afterSwap: true,\n",
       "            beforeDonate: false,\n",
       "            afterDonate: false\n",
       "        });\n",
       "    }\n",
       "\n",
       "    function afterSwap(\n",
       "        address sender,\n",
       "        PoolKey calldata,\n",
       "        IPoolManager.SwapParams calldata,\n",
       "        BalanceDelta,\n",
       "        bytes calldata\n",
       "    ) external override returns (bytes4) {\n",
       "        // Ensure the hook has enough balance to send the reward\n",
       "        require(rewardToken.balanceOf(address(this)) >= REWARD_AMOUNT, \"Insufficient reward balance\");\n",
       "\n",
       "        // Send the reward to the swapper\n",
       "        rewardToken.safeTransfer(sender, REWARD_AMOUNT);\n",
       "\n",
       "        emit RewardSent(sender, REWARD_AMOUNT);\n",
       "\n",
       "        return BaseHook.afterSwap.selector;\n",
       "    }\n",
       "\n",
       "    // Function to allow the contract owner to withdraw any excess tokens\n",
       "    function withdrawExcessTokens(uint256 amount) external {\n",
       "        require(msg.sender == owner(), \"Only owner can withdraw\");\n",
       "        require(rewardToken.balanceOf(address(this)) >= amount, \"Insufficient balance\");\n",
       "\n",
       "        rewardToken.safeTransfer(msg.sender, amount);\n",
       "    }\n",
       "\n",
       "    // Function to check the current reward token balance of the contract\n",
       "    function getRewardBalance() external view returns (uint256) {\n",
       "        return rewardToken.balanceOf(address(this));\n",
       "    }\n",
       "}\n",
       "```\n",
       "\n",
       "This `RewardHook` contract does the following:\n",
       "\n",
       "1. It imports necessary contracts and libraries, including `SafeERC20` for safe token transfers.\n",
       "\n",
       "2. The contract has a state variable `rewardToken` to store the address of the ERC20 token used for rewards.\n",
       "\n",
       "3. It defines a constant `REWARD_AMOUNT` set to 1 token (assuming 18 decimal places).\n",
       "\n",
       "4. The constructor takes the `IPoolManager` address and the reward token address as parameters.\n",
       "\n",
       "5. The `getHookPermissions()` function is implemented to enable only the `afterSwap` hook.\n",
       "\n",
       "6. The `afterSwap()` function is where the main logic happens:\n",
       "   - It checks if the contract has enough balance to send the reward.\n",
       "   - If so, it sends the `REWARD_"
      ],
      "text/plain": [
       "<IPython.core.display.Markdown object>"
      ]
     },
     "metadata": {},
     "output_type": "display_data"
    }
   ],
   "source": [
    "render_markdown(answer)"
   ]
  },
  {
   "cell_type": "code",
   "execution_count": null,
   "id": "7cffe1d9-d2e1-4af9-aadf-83d18dc83288",
   "metadata": {},
   "outputs": [],
   "source": []
  }
 ],
 "metadata": {
  "kernelspec": {
   "display_name": "3.12.0",
   "language": "python",
   "name": "pyenv_3.12.0"
  },
  "language_info": {
   "codemirror_mode": {
    "name": "ipython",
    "version": 3
   },
   "file_extension": ".py",
   "mimetype": "text/x-python",
   "name": "python",
   "nbconvert_exporter": "python",
   "pygments_lexer": "ipython3",
   "version": "3.12.0"
  }
 },
 "nbformat": 4,
 "nbformat_minor": 5
}
