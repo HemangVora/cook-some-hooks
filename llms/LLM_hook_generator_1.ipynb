{
 "cells": [
  {
   "cell_type": "code",
   "execution_count": 102,
   "id": "abb0dd27-39ba-4141-82ad-d1f9db25d94c",
   "metadata": {},
   "outputs": [
    {
     "data": {
      "text/plain": [
       "True"
      ]
     },
     "execution_count": 102,
     "metadata": {},
     "output_type": "execute_result"
    }
   ],
   "source": [
    "from openai import OpenAI\n",
    "import os\n",
    "from dotenv import load_dotenv, find_dotenv\n",
    "from IPython.display import display, Markdown\n",
    "import tiktoken\n",
    "import os\n",
    "\n",
    "load_dotenv(find_dotenv())"
   ]
  },
  {
   "cell_type": "code",
   "execution_count": 103,
   "id": "5d0cf4dd-350d-4207-b1fe-c882b5e3c5ec",
   "metadata": {},
   "outputs": [
    {
     "name": "stdout",
     "output_type": "stream",
     "text": [
      "[TextBlock(text=\"Hello! It's nice to meet you. How can I assist you today?\", type='text')]\n"
     ]
    }
   ],
   "source": [
    "import os\n",
    "from anthropic import Anthropic\n",
    "\n",
    "client = Anthropic(\n",
    "    # This is the default and can be omitted\n",
    "    api_key=os.environ.get(\"ANTHROPIC_API_KEY\"),\n",
    ")\n"
   ]
  },
  {
   "cell_type": "code",
   "execution_count": 129,
   "id": "b8e5b97c-355f-4290-a376-41df4268e074",
   "metadata": {},
   "outputs": [],
   "source": [
    "OpenAI_client = OpenAI(api_key=os.environ.get(\"OPENAI_API_KEY\"))\n",
    "Anthropic_client = Anthropic(api_key=os.environ.get(\"ANTHROPIC_API_KEY\"),\n",
    ")"
   ]
  },
  {
   "cell_type": "code",
   "execution_count": 130,
   "id": "657e182d-70fe-4765-a9ef-94a09c4265f8",
   "metadata": {},
   "outputs": [],
   "source": [
    "def get_n_tokens(text):\n",
    "    enc = tiktoken.encoding_for_model(\"gpt-4o\")\n",
    "    return len(enc.encode(text))\n",
    "\n",
    "def get_openai_answer(instructions, prompt):\n",
    "    completion = OpenAI_client.chat.completions.create(\n",
    "      model=\"gpt-4o\",\n",
    "      messages=[\n",
    "        {\"role\": \"system\", \"content\": instructions},\n",
    "        {\"role\": \"user\", \"content\": prompt}\n",
    "      ]\n",
    "    )\n",
    "    return completion.choices[0].message.content\n",
    "\n",
    "def get_claude_answer(instructions, prompt):\n",
    "    message = client.messages.create(\n",
    "        max_tokens=1024,\n",
    "        system = instructions,\n",
    "        messages=[\n",
    "            {\"role\": \"user\", \"content\": prompt}\n",
    "        ],\n",
    "        model=\"claude-3-5-sonnet-20240620\",\n",
    "        )\n",
    "    return message.content[0].text\n",
    "\n",
    "def read_file(file_path):\n",
    "    try:\n",
    "        with open(file_path, 'r') as file:\n",
    "            content = file.read()\n",
    "        return content\n",
    "    except FileNotFoundError:\n",
    "        return \"File not found.\"\n",
    "\n",
    "def read_all_files_in_folder(folder_path):\n",
    "    contents_list = []\n",
    "    for filename in os.listdir(folder_path):\n",
    "        file_path = os.path.join(folder_path, filename)\n",
    "        if os.path.isfile(file_path):\n",
    "            with open(file_path, 'r') as file:\n",
    "                contents = file.read()\n",
    "                contents_list.append(contents)\n",
    "    return contents_list\n",
    "\n",
    "def get_cost_dollars(instructions, answer):\n",
    "    input_1k_tokens = 0.005\n",
    "    output_1k_tokens = 0.015\n",
    "    return input_1k_tokens * get_n_tokens(instructions)/1000 + output_1k_tokens * get_n_tokens(answer)/1000\n",
    "\n",
    "def render_markdown(text):\n",
    "    display(Markdown(text))"
   ]
  },
  {
   "cell_type": "code",
   "execution_count": 131,
   "id": "08fc13dd-7590-459e-b204-c291e3e5e91a",
   "metadata": {},
   "outputs": [],
   "source": [
    "\n",
    "file_path = 'instructions.txt'\n",
    "instructions = read_file(file_path)\n",
    "\n",
    "folder_path = 'hook_examples'\n",
    "all_contents = read_all_files_in_folder(folder_path)"
   ]
  },
  {
   "cell_type": "code",
   "execution_count": 132,
   "id": "c1605e8e-7071-48bd-973e-20a99d94bdb6",
   "metadata": {},
   "outputs": [],
   "source": [
    "final_instructions = instructions\n",
    "for idx, content in enumerate(all_contents):\n",
    "     final_instructions += f\"\"\"----------\n",
    "                     HOOK EXAMPLE {idx}:\n",
    "                     {content} \\n\\n\\n\\n\\n\"\"\""
   ]
  },
  {
   "cell_type": "code",
   "execution_count": 133,
   "id": "ac4eb3bc-d10b-411d-8fb5-4d7115e438af",
   "metadata": {},
   "outputs": [],
   "source": [
    "prompt = \"I want a hook that sends an erc20 to the swapper (the hook will have a balance)\"\n",
    "\n",
    "#answer = gpt_get_answer(final_instructions, prompt)"
   ]
  },
  {
   "cell_type": "code",
   "execution_count": 136,
   "id": "2496dfd0-f8a1-4707-8e8c-f7ee88fd3757",
   "metadata": {},
   "outputs": [
    {
     "data": {
      "text/plain": [
       "'You are an expert solidity developer.\\n\\nYour task is to assist in creating hook smart contracts for Uniswap V4. \\n\\nUniswap v4 Hooks -- also known simply as hooks -- are specially designed contracts that run at distinct points throughout a pool action\\'s lifecycle. They serve as plugins allowing developers to tailor how pools, swaps, fees, and LP positions interact. This enables innovation atop Uniswap v4\\'s core features, thereby supporting the development of custom AMM pools.\\n\\nDuring the course of a pool action\\'s lifecycle, a hook invokes custom logic primarily at four critical phases:\\n\\nInitialize: Activated when the pool is deployed.\\nModify Position: Used to add or remove liquidity.\\nSwap: Engages a swap between tokens within the V4 ecosystem.\\nDonate: Facilitates the donation of liquidity to a V4 pool. Upon initialization, a pool can be associated with a hook contract. Such a contract has the ability to execute any of the callback functions during the pool action\\'s lifecycle:\\n{before,after}Initialize\\n{before,after}AddLiquidity\\n{before,after}RemoveLiquidity\\n{before,after}Swap\\n{before,after}Donate\\nMoreover, hooks can determine fees on swaps and liquidity withdrawals through callback functions. The flexibility lies in updating the fee values or callback logic based on the hook\\'s design. Nevertheless, the callbacks activated on a pool, including the fee type, remain constant post pool initialization.\\n\\nThe available functions are:\\n\\nbeforeInitialize\\nafterInitialize\\nbeforeAddLiquidity\\nbeforeRemoveLiquidity\\nafterAddLiquidity\\nafterRemoveLiquidity\\nbeforeSwap\\nafterSwap\\nbeforeDonate\\nafterDonate\\n\\nHere are some examples of hooks:\\n\\n\\n----------\\n                     HOOK EXAMPLE 0:\\n                     // SPDX-License-Identifier: MIT\\npragma solidity ^0.8.0;\\n\\nimport {BaseHook} from \"v4-periphery/BaseHook.sol\";\\nimport {ERC20} from \"solmate/tokens/ERC20.sol\";\\n\\nimport {CurrencyLibrary, Currency} from \"v4-core/types/Currency.sol\";\\nimport {PoolKey} from \"v4-core/types/PoolKey.sol\";\\nimport {BalanceDeltaLibrary, BalanceDelta} from \"v4-core/types/BalanceDelta.sol\";\\n\\nimport {IPoolManager} from \"v4-core/interfaces/IPoolManager.sol\";\\n\\nimport {Hooks} from \"v4-core/libraries/Hooks.sol\";\\n\\ncontract PointsHook is BaseHook, ERC20 {\\n\\t// Use CurrencyLibrary and BalanceDeltaLibrary\\n\\t// to add some helper functions over the Currency and BalanceDelta\\n\\t// data types \\n\\tusing CurrencyLibrary for Currency;\\n    using BalanceDeltaLibrary for BalanceDelta;\\n\\n\\t// Keeping track of user => referrer\\n\\tmapping(address => address) public referredBy;\\n\\n\\t// Amount of points someone gets for referring someone else\\n    uint256 public constant POINTS_FOR_REFERRAL = 500 * 10 ** 18;\\n\\n\\t// Initialize BaseHook and ERC20\\n    constructor(\\n        IPoolManager _manager,\\n        string memory _name,\\n        string memory _symbol\\n    ) BaseHook(_manager) ERC20(_name, _symbol, 18) {}\\n\\n\\t// Set up hook permissions to return `true`\\n\\t// for the two hook functions we are using\\n    function getHookPermissions()\\n        public\\n        pure\\n        override\\n        returns (Hooks.Permissions memory)\\n    {\\n        return\\n            Hooks.Permissions({\\n                beforeInitialize: false,\\n                afterInitialize: false,\\n                beforeAddLiquidity: false,\\n                beforeRemoveLiquidity: false,\\n                afterAddLiquidity: true,\\n                afterRemoveLiquidity: false,\\n                beforeSwap: false,\\n                afterSwap: true,\\n                beforeDonate: false,\\n                afterDonate: false\\n            });\\n    }\\n\\n    function afterSwap(\\n        address,\\n        PoolKey calldata key,\\n        IPoolManager.SwapParams calldata swapParams,\\n        BalanceDelta delta,\\n        bytes calldata hookData\\n    ) external override poolManagerOnly returns (bytes4) {\\n        // If this is not an ETH-TOKEN pool with this hook attached, ignore\\n        // `isNative` function comes from CurrencyLibrary\\n        if (!key.currency0.isNative()) return this.afterSwap.selector;\\n\\n        // We only mint points if user is buying TOKEN with ETH\\n        if (!swapParams.zeroForOne) return this.afterSwap.selector;\\n\\n        // Mint points equal to 20% of the amount of ETH they spent\\n        // Since its a zeroForOne swap:\\n        // if amountSpecified < 0:\\n        //      this is an \"exact input for output\" swap\\n        //      amount of ETH they spent is equal to |amountSpecified|\\n        // if amountSpecified > 0:\\n        //      this is an \"exact output for input\" swap\\n        //      amount of ETH they spent is equal to BalanceDelta.amount0()\\n\\n        uint256 ethSpendAmount = swapParams.amountSpecified < 0\\n            ? uint256(-swapParams.amountSpecified)\\n            // amount0() function here comes from BalanceDeltaLibrary\\n            : uint256(int256(-delta.amount0()));\\n\\n        // pointsForSwap = 20% of ethSpendAmount\\n        uint256 pointsForSwap = ethSpendAmount / 5;\\n\\n        // Mint the points including any referral points\\n        _assignPoints(hookData, pointsForSwap);\\n\\n        return this.afterSwap.selector;\\n    }\\n\\n    function afterAddLiquidity(\\n        address,\\n        PoolKey calldata key,\\n        IPoolManager.ModifyLiquidityParams calldata,\\n        BalanceDelta delta,\\n        bytes calldata hookData\\n    ) external override poolManagerOnly returns (bytes4) {\\n        // If this is not an ETH-TOKEN pool with this hook attached, ignore\\n        if (!key.currency0.isNative()) return this.afterSwap.selector;\\n\\n        // Mint points equivalent to how much ETH they\\'re adding in liquidity\\n        // amount0() is amount of Token 0 i.e. ETH\\n        // we do `-amount0` because its money leaving the user\\'s wallet so will be a negative value, we flip the sign to make it positive\\n        uint256 pointsForAddingLiquidity = uint256(int256(-delta.amount0()));\\n\\n        // Mint the points including any referral points\\n        _assignPoints(hookData, pointsForAddingLiquidity);\\n\\n        return this.afterAddLiquidity.selector;\\n    }\\n    \\n    function getHookData(\\n        address referrer,\\n        address referree\\n    ) public pure returns (bytes memory) {\\n        return abi.encode(referrer, referree);\\n    }\\n\\n    function _assignPoints(\\n        bytes calldata hookData,\\n        uint256 referreePoints\\n    ) internal {\\n\\n        // If no referrer/referree specified, no points will be assigned to anyone\\n        if (hookData.length == 0) return;\\n\\n        // Decode the referrer and referree addresses\\n        (address referrer, address referree) = abi.decode(\\n            hookData,\\n            (address, address)\\n        );\\n\\n        // If referree is the zero address, ignore\\n        if (referree == address(0)) return;\\n\\n        // If this referree is being referred by someone for the first time,\\n        // set the given referrer address as their referrer\\n        // and mint POINTS_FOR_REFERRAL to that referrer address\\n        if (referredBy[referree] == address(0) && referrer != address(0)) {\\n            referredBy[referree] = referrer;\\n            _mint(referrer, POINTS_FOR_REFERRAL);\\n        }\\n\\n        // Mint 10% worth of the referree\\'s points to the referrer\\n        if (referredBy[referree] != address(0)) {\\n            _mint(referrer, referreePoints / 10);\\n        }\\n\\n        // Mint the appropriate number of points to the referree\\n        _mint(referree, referreePoints);\\n    }\\n} \\n\\n\\n\\n\\n----------\\n                     HOOK EXAMPLE 1:\\n                     //The MultiSigSwapHook contract is a specialized implementation designed to integrate with Uniswap v4\\'s innovative hook system. In line with Uniswap\\'s vision for v4, this contract allows for a flexible and customized approach to swaps by enforcing multiple signature approvals before a swap can occur.\\n\\npragma solidity ^0.8.15;\\n\\nimport {BaseHook} from \"v4-periphery/BaseHook.sol\";\\nimport {Hooks} from \"@uniswap/v4-core/contracts/libraries/Hooks.sol\";\\nimport {IPoolManager} from \"@uniswap/v4-core/contracts/interfaces/IPoolManager.sol\";\\nimport {PoolId, PoolIdLibrary} from \"@uniswap/v4-core/contracts/libraries/PoolId.sol\";\\nimport {BalanceDelta} from \"@uniswap/v4-core/contracts/types/BalanceDelta.sol\";\\n\\ncontract MultiSigSwapHook is BaseHook {\\n    struct SwapApproval {\\n        uint256 count;\\n        mapping(address => bool) signers;\\n    }\\n\\n    using PoolIdLibrary for IPoolManager.PoolKey;\\n\\n\\n    modifier onlyOwner() {\\n        require(msg.sender == owner, \"Caller is not the owner\");\\n        _;\\n    }\\n\\n    address public owner;\\n\\n    mapping(bytes32 => SwapApproval) public swapApprovals;\\n    mapping(address => bool) public authorizedSigners;\\n    uint256 public requiredSignatures;\\n\\n    event ApprovalAdded(address indexed signer, bytes32 indexed swapHash);\\n    event SwapCompleted(bytes32 indexed swapHash);\\n\\n    constructor(IPoolManager _poolManager, address[] memory _signers, uint256 _requiredSignatures) BaseHook(_poolManager) {\\n        require(_signers.length >= _requiredSignatures, \"Invalid signers or required signatures\");\\n        require(_requiredSignatures > 0, \"At least one signature is required\");\\n\\n        for (uint i = 0; i < _signers.length; i++) {\\n            require(!authorizedSigners[_signers[i]], \"Duplicate signers are not allowed\");\\n            authorizedSigners[_signers[i]] = true;\\n        }\\n\\n        requiredSignatures = _requiredSignatures;\\n        owner = msg.sender;\\n    }\\n\\n    function approveSwap(bytes32 swapHash) public {\\n        require(authorizedSigners[msg.sender], \"Not an approved signer\");\\n        require(!swapApprovals[swapHash].signers[msg.sender], \"Signer has already approved this swap\");\\n\\n        swapApprovals[swapHash].count++;\\n        swapApprovals[swapHash].signers[msg.sender] = true;\\n\\n        emit ApprovalAdded(msg.sender, swapHash);\\n    }\\n\\n    function beforeSwap(address, IPoolManager.PoolKey calldata, IPoolManager.SwapParams calldata swapParams)\\n    external\\n    override\\n    returns (bytes4)\\n    {\\n        bytes32 swapHash = keccak256(abi.encode(swapParams));\\n        require(swapApprovals[swapHash].count >= requiredSignatures, \"Insufficient approvals for swap\");\\n\\n        return BaseHook.beforeSwap.selector;\\n    }\\n\\n    function afterSwap(address, IPoolManager.PoolKey calldata, IPoolManager.SwapParams calldata swapParams, BalanceDelta)\\n    external\\n    override\\n    returns (bytes4)\\n    {\\n        bytes32 swapHash = keccak256(abi.encode(swapParams));\\n        delete swapApprovals[swapHash]; // Clears the swap approval for the swapHash\\n\\n        emit SwapCompleted(swapHash);\\n        return BaseHook.afterSwap.selector;\\n    }\\n\\n\\n    function addSigner(address signer) public onlyOwner {\\n        require(!authorizedSigners[signer], \"Signer is already authorized\");\\n        authorizedSigners[signer] = true;\\n    }\\n\\n\\n    function removeSigner(address signer) public onlyOwner {\\n        require(authorizedSigners[signer], \"Signer is not authorized\");\\n        authorizedSigners[signer] = false;\\n    }\\n\\n\\n    function setRequiredSignatures(uint256 _requiredSignatures) public onlyOwner {\\n        require(_requiredSignatures > 0, \"At least one signature is required\");\\n        requiredSignatures = _requiredSignatures;\\n    }\\n\\n    function getApprovalDetails(bytes32 swapHash) public view returns (uint256 approvalCount, bool hasSigned) {\\n        return (swapApprovals[swapHash].count, swapApprovals[swapHash].signers[msg.sender]);\\n    }\\n} \\n\\n\\n\\n\\n----------\\n                     HOOK EXAMPLE 2:\\n                     // SPDX-License-Identifier: UNLICENSED\\npragma solidity >=0.8.19;\\n\\nimport {Ownable} from \"@openzeppelin/contracts/access/Ownable.sol\";\\nimport {IPoolManager} from \"@uniswap/v4-core/contracts/interfaces/IPoolManager.sol\";\\nimport {Hooks} from \"@uniswap/v4-core/contracts/libraries/Hooks.sol\";\\n\\nimport {BaseHook} from \"./BaseHook.sol\";\\n\\n/**\\n * @title An interface for checking whether an address has a valid kycNFT token\\n */\\ninterface IKycValidity {\\n    /// @dev Check whether a given address has a valid kycNFT token\\n    /// @param _addr Address to check for tokens\\n    /// @return valid Whether the address has a valid token\\n    function hasValidToken(address _addr) external view returns (bool valid);\\n}\\n\\n/**\\n * Only KYC\\'ed people can trade on the V4 hook\\'ed pool.\\n * Caveat: Relies on external oracle for info on an address\\'s KYC status.\\n */\\ncontract KYCSwaps is BaseHook, Ownable {\\n    IKycValidity public kycValidity;\\n    address private _preKycValidity;\\n    uint256 private _setKycValidityReqTimestamp;\\n\\n    constructor(\\n        IPoolManager _poolManager,\\n        address _kycValidity\\n    ) BaseHook(_poolManager) {\\n        kycValidity = IKycValidity(_kycValidity);\\n    }\\n\\n    modifier onlyPermitKYC() {\\n        require(\\n            kycValidity.hasValidToken(tx.origin),\\n            \"Swaps available for valid KYC token holders\"\\n        );\\n        _;\\n    }\\n\\n    /// Sorta timelock\\n    function setKycValidity(address _kycValidity) external onlyOwner {\\n        if (\\n            block.timestamp - _setKycValidityReqTimestamp >= 7 days &&\\n            _kycValidity == _preKycValidity\\n        ) {\\n            kycValidity = IKycValidity(_kycValidity);\\n        } else {\\n            _preKycValidity = _kycValidity;\\n            _setKycValidityReqTimestamp = block.timestamp;\\n        }\\n    }\\n\\n    function getHooksCalls() public pure override returns (Hooks.Calls memory) {\\n        return\\n            Hooks.Calls({\\n                beforeInitialize: false,\\n                afterInitialize: false,\\n                beforeModifyPosition: true,\\n                afterModifyPosition: false,\\n                beforeSwap: true,\\n                afterSwap: false,\\n                beforeDonate: false,\\n                afterDonate: false\\n            });\\n    }\\n\\n    function beforeModifyPosition(\\n        address,\\n        IPoolManager.PoolKey calldata,\\n        IPoolManager.ModifyPositionParams calldata\\n    ) external view override poolManagerOnly onlyPermitKYC returns (bytes4) {\\n        return BaseHook.beforeModifyPosition.selector;\\n    }\\n\\n    function beforeSwap(\\n        address,\\n        IPoolManager.PoolKey calldata,\\n        IPoolManager.SwapParams calldata\\n    ) external view override poolManagerOnly onlyPermitKYC returns (bytes4) {\\n        return BaseHook.beforeSwap.selector;\\n    }\\n} \\n\\n\\n\\n\\n----------\\n                     HOOK EXAMPLE 3:\\n                     // SPDX-License-Identifier: MIT\\npragma solidity ^0.8.24;\\n\\nimport {BaseHook} from \"v4-periphery/BaseHook.sol\";\\n\\nimport {Hooks} from \"v4-core/src/libraries/Hooks.sol\";\\nimport {IPoolManager} from \"v4-core/src/interfaces/IPoolManager.sol\";\\nimport {PoolKey} from \"v4-core/src/types/PoolKey.sol\";\\nimport {PoolId, PoolIdLibrary} from \"v4-core/src/types/PoolId.sol\";\\nimport {BalanceDelta} from \"v4-core/src/types/BalanceDelta.sol\";\\nimport {BeforeSwapDelta, BeforeSwapDeltaLibrary} from \"v4-core/src/types/BeforeSwapDelta.sol\";\\n\\ncontract Counter is BaseHook {\\n    using PoolIdLibrary for PoolKey;\\n\\n    // NOTE: ---------------------------------------------------------\\n    // state variables should typically be unique to a pool\\n    // a single hook contract should be able to service multiple pools\\n    // ---------------------------------------------------------------\\n\\n    mapping(PoolId => uint256 count) public beforeSwapCount;\\n    mapping(PoolId => uint256 count) public afterSwapCount;\\n\\n    mapping(PoolId => uint256 count) public beforeAddLiquidityCount;\\n    mapping(PoolId => uint256 count) public beforeRemoveLiquidityCount;\\n\\n    constructor(IPoolManager _poolManager) BaseHook(_poolManager) {}\\n\\n    function getHookPermissions() public pure override returns (Hooks.Permissions memory) {\\n        return Hooks.Permissions({\\n            beforeInitialize: false,\\n            afterInitialize: false,\\n            beforeAddLiquidity: true,\\n            afterAddLiquidity: false,\\n            beforeRemoveLiquidity: true,\\n            afterRemoveLiquidity: false,\\n            beforeSwap: true,\\n            afterSwap: true,\\n            beforeDonate: false,\\n            afterDonate: false,\\n            beforeSwapReturnDelta: false,\\n            afterSwapReturnDelta: false,\\n            afterAddLiquidityReturnDelta: false,\\n            afterRemoveLiquidityReturnDelta: false\\n        });\\n    }\\n\\n    // -----------------------------------------------\\n    // NOTE: see IHooks.sol for function documentation\\n    // -----------------------------------------------\\n\\n    function beforeSwap(address, PoolKey calldata key, IPoolManager.SwapParams calldata, bytes calldata)\\n        external\\n        override\\n        returns (bytes4, BeforeSwapDelta, uint24)\\n    {\\n        beforeSwapCount[key.toId()]++;\\n        return (BaseHook.beforeSwap.selector, BeforeSwapDeltaLibrary.ZERO_DELTA, 0);\\n    }\\n\\n    function afterSwap(address, PoolKey calldata key, IPoolManager.SwapParams calldata, BalanceDelta, bytes calldata)\\n        external\\n        override\\n        returns (bytes4, int128)\\n    {\\n        afterSwapCount[key.toId()]++;\\n        return (BaseHook.afterSwap.selector, 0);\\n    }\\n\\n    function beforeAddLiquidity(\\n        address,\\n        PoolKey calldata key,\\n        IPoolManager.ModifyLiquidityParams calldata,\\n        bytes calldata\\n    ) external override returns (bytes4) {\\n        beforeAddLiquidityCount[key.toId()]++;\\n        return BaseHook.beforeAddLiquidity.selector;\\n    }\\n\\n    function beforeRemoveLiquidity(\\n        address,\\n        PoolKey calldata key,\\n        IPoolManager.ModifyLiquidityParams calldata,\\n        bytes calldata\\n    ) external override returns (bytes4) {\\n        beforeRemoveLiquidityCount[key.toId()]++;\\n        return BaseHook.beforeRemoveLiquidity.selector;\\n    }\\n} \\n\\n\\n\\n\\n----------\\n                     HOOK EXAMPLE 4:\\n                     // SPDX-License-Identifier: UNLICENSED\\npragma solidity ^0.8.0;\\n\\nimport {BaseHook} from \"v4-periphery/BaseHook.sol\";\\nimport {ERC1155} from \"@openzeppelin/contracts/token/ERC1155/ERC1155.sol\";\\nimport {IPoolManager} from \"v4-core/interfaces/IPoolManager.sol\";\\nimport {Hooks} from \"v4-core/libraries/Hooks.sol\";\\n\\nimport {PoolId, PoolIdLibrary} from \"v4-core/types/PoolId.sol\";\\nimport {PoolKey} from \"v4-core/types/PoolKey.sol\";\\n\\nimport {Currency, CurrencyLibrary} from \"v4-core/types/Currency.sol\";\\nimport {IERC20} from \"@openzeppelin/contracts/token/ERC20/IERC20.sol\";\\n\\nimport {TickMath} from \"v4-core/libraries/TickMath.sol\";\\nimport {BalanceDelta} from \"v4-core/types/BalanceDelta.sol\";\\n\\nimport {FixedPointMathLib} from \"solmate/utils/FixedPointMathLib.sol\";\\n\\ncontract TakeProfitsHook is BaseHook, ERC1155 {\\n    using PoolIdLibrary for PoolKey;\\n    using CurrencyLibrary for Currency;\\n    using FixedPointMathLib for uint256;\\n\\n    // Storage\\n    mapping(PoolId poolId => int24 lastTick) public lastTicks;\\n    mapping(PoolId poolId => mapping(int24 tickToSellAt => mapping(bool zeroForOne => uint256 inputAmount)))\\n        public pendingOrders;\\n\\n    mapping(uint256 positionId => uint256 outputClaimable)\\n        public claimableOutputTokens;\\n    mapping(uint256 positionId => uint256 claimsSupply)\\n        public claimTokensSupply;\\n\\n    // Errors\\n    error InvalidOrder();\\n    error NothingToClaim();\\n    error NotEnoughToClaim();\\n\\n    // Constructor\\n    constructor(\\n        IPoolManager _manager,\\n        string memory _uri\\n    ) BaseHook(_manager) ERC1155(_uri) {}\\n\\n    // BaseHook Functions\\n    function getHookPermissions()\\n        public\\n        pure\\n        override\\n        returns (Hooks.Permissions memory)\\n    {\\n        return\\n            Hooks.Permissions({\\n                beforeInitialize: false,\\n                afterInitialize: true,\\n                beforeAddLiquidity: false,\\n                afterAddLiquidity: false,\\n                beforeRemoveLiquidity: false,\\n                afterRemoveLiquidity: false,\\n                beforeSwap: false,\\n                afterSwap: true,\\n                beforeDonate: false,\\n                afterDonate: false\\n            });\\n    }\\n\\n    function afterInitialize(\\n        address,\\n        PoolKey calldata key,\\n        uint160,\\n        int24 tick,\\n        bytes calldata\\n    ) external override poolManagerOnly returns (bytes4) {\\n        lastTicks[key.toId()] = tick;\\n        return this.afterInitialize.selector;\\n    }\\n\\n    function afterSwap(\\n        address sender,\\n        PoolKey calldata key,\\n        IPoolManager.SwapParams calldata params,\\n        BalanceDelta,\\n        bytes calldata\\n    ) external override poolManagerOnly returns (bytes4) {\\n        if (sender == address(this)) return this.afterSwap.selector;\\n\\n        bool tryMore = true;\\n        int24 currentTick;\\n\\n        while (tryMore) {\\n            (tryMore, currentTick) = tryExecutingOrders(\\n                key,\\n                !params.zeroForOne\\n            );\\n        }\\n\\n        lastTicks[key.toId()] = currentTick;\\n        return this.afterSwap.selector;\\n    }\\n\\n    // Core Hook External Functions\\n    function placeOrder(\\n        PoolKey calldata key,\\n        int24 tickToSellAt,\\n        bool zeroForOne,\\n        uint256 inputAmount\\n    ) external returns (int24) {\\n        // Get lower actually usable tick given `tickToSellAt`\\n        int24 tick = getLowerUsableTick(tickToSellAt, key.tickSpacing);\\n        // Create a pending order\\n        pendingOrders[key.toId()][tick][zeroForOne] += inputAmount;\\n\\n        // Mint claim tokens to user equal to their `inputAmount`\\n        uint256 positionId = getPositionId(key, tick, zeroForOne);\\n        claimTokensSupply[positionId] += inputAmount;\\n        _mint(msg.sender, positionId, inputAmount, \"\");\\n\\n        // Depending on direction of swap, we select the proper input token\\n        // and request a transfer of those tokens to the hook contract\\n        address sellToken = zeroForOne\\n            ? Currency.unwrap(key.currency0)\\n            : Currency.unwrap(key.currency1);\\n        IERC20(sellToken).transferFrom(msg.sender, address(this), inputAmount);\\n\\n        // Return the tick at which the order was actually placed\\n        return tick;\\n    }\\n\\n    function cancelOrder(\\n        PoolKey calldata key,\\n        int24 tickToSellAt,\\n        bool zeroForOne\\n    ) external {\\n        // Get lower actually usable tick for their order\\n        int24 tick = getLowerUsableTick(tickToSellAt, key.tickSpacing);\\n        uint256 positionId = getPositionId(key, tick, zeroForOne);\\n\\n        // Check how many claim tokens they have for this position\\n        uint256 positionTokens = balanceOf(msg.sender, positionId);\\n        if (positionTokens == 0) revert InvalidOrder();\\n\\n        // Remove their `positionTokens` worth of position from pending orders\\n        // NOTE: We don\\'t want to zero this out directly because other users may have the same position\\n        pendingOrders[key.toId()][tick][zeroForOne] -= positionTokens;\\n        // Reduce claim token total supply and burn their share\\n        claimTokensSupply[positionId] -= positionTokens;\\n        _burn(msg.sender, positionId, positionTokens);\\n\\n        // Send them their input token\\n        Currency token = zeroForOne ? key.currency0 : key.currency1;\\n        token.transfer(msg.sender, positionTokens);\\n    }\\n\\n    function redeem(\\n        PoolKey calldata key,\\n        int24 tickToSellAt,\\n        bool zeroForOne,\\n        uint256 inputAmountToClaimFor\\n    ) external {\\n        // Get lower actually usable tick for their order\\n        int24 tick = getLowerUsableTick(tickToSellAt, key.tickSpacing);\\n        uint256 positionId = getPositionId(key, tick, zeroForOne);\\n\\n        // If no output tokens can be claimed yet i.e. order hasn\\'t been filled\\n        // throw error\\n        if (claimableOutputTokens[positionId] == 0) revert NothingToClaim();\\n\\n        // they must have claim tokens >= inputAmountToClaimFor\\n        uint256 positionTokens = balanceOf(msg.sender, positionId);\\n        if (positionTokens < inputAmountToClaimFor) revert NotEnoughToClaim();\\n\\n        uint256 totalClaimableForPosition = claimableOutputTokens[positionId];\\n        uint256 totalInputAmountForPosition = claimTokensSupply[positionId];\\n\\n        // outputAmount = (inputAmountToClaimFor * totalClaimableForPosition) / (totalInputAmountForPosition)\\n        uint256 outputAmount = inputAmountToClaimFor.mulDivDown(\\n            totalClaimableForPosition,\\n            totalInputAmountForPosition\\n        );\\n\\n        // Reduce claimable output tokens amount\\n        // Reduce claim token total supply for position\\n        // Burn claim tokens\\n        claimableOutputTokens[positionId] -= outputAmount;\\n        claimTokensSupply[positionId] -= inputAmountToClaimFor;\\n        _burn(msg.sender, positionId, inputAmountToClaimFor);\\n\\n        // Transfer output tokens\\n        Currency token = zeroForOne ? key.currency1 : key.currency0;\\n        token.transfer(msg.sender, outputAmount);\\n    }\\n\\n    // Internal Functions\\n    function tryExecutingOrders(\\n        PoolKey calldata key,\\n        bool executeZeroForOne\\n    ) internal returns (bool tryMore, int24 newTick) {\\n        (, int24 currentTick, , ) = poolManager.getSlot0(key.toId());\\n        int24 lastTick = lastTicks[key.toId()];\\n\\n        // Tick has increased i.e. people sold Token 1 to buy Token 0\\n        // i.e. Token 0 price has increased\\n        // We should check if we have any orders looking to sell Token 0\\n        // at ticks `lastTick` to `currentTick`\\n        if (currentTick > lastTick) {\\n            // Loop over all ticks from `lastTick` to `currentTick`\\n            // and execute orders that are looking to sell Token 0\\n            for (\\n                int24 tick = lastTick;\\n                tick < currentTick;\\n                tick += key.tickSpacing\\n            ) {\\n                uint256 inputAmount = pendingOrders[key.toId()][tick][\\n                    executeZeroForOne\\n                ];\\n                if (inputAmount > 0) {\\n                    executeOrder(key, tick, executeZeroForOne, inputAmount);\\n\\n                    // Return true because we may have more orders to execute\\n                    // from lastTick to new current tick\\n                    return (true, currentTick);\\n                }\\n            }\\n        }\\n        // Tick has gone down i.e. people sold Token 0 to buy Token 1\\n        // i.e. Token 1 price has increased\\n        // We should check if we have any orders looking to sell Token 1\\n        // at ticks `currentTick` to `lastTick`\\n        else {\\n            for (\\n                int24 tick = lastTick;\\n                tick > currentTick;\\n                tick -= key.tickSpacing\\n            ) {\\n                uint256 inputAmount = pendingOrders[key.toId()][tick][\\n                    executeZeroForOne\\n                ];\\n                if (inputAmount > 0) {\\n                    executeOrder(key, tick, executeZeroForOne, inputAmount);\\n                    return (true, currentTick);\\n                }\\n            }\\n        }\\n\\n        return (false, currentTick);\\n    }\\n\\n    function executeOrder(\\n        PoolKey calldata key,\\n        int24 tick,\\n        bool zeroForOne,\\n        uint256 inputAmount\\n    ) internal {\\n        // Do the actual swap and settle all balances\\n        BalanceDelta delta = swapAndSettleBalances(\\n            key,\\n            IPoolManager.SwapParams({\\n                zeroForOne: zeroForOne,\\n                // We provide a negative value here to signify an \"exact input for output\" swap\\n                amountSpecified: -int256(inputAmount),\\n                // No slippage limits (maximum slippage possible)\\n                sqrtPriceLimitX96: zeroForOne\\n                    ? TickMath.MIN_SQRT_RATIO + 1\\n                    : TickMath.MAX_SQRT_RATIO - 1\\n            })\\n        );\\n\\n        // `inputAmount` has been deducted from this position\\n        pendingOrders[key.toId()][tick][zeroForOne] -= inputAmount;\\n        uint256 positionId = getPositionId(key, tick, zeroForOne);\\n        uint256 outputAmount = zeroForOne\\n            ? uint256(int256(delta.amount1()))\\n            : uint256(int256(delta.amount0()));\\n\\n        // `outputAmount` worth of tokens now can be claimed/redeemed by position holders\\n        claimableOutputTokens[positionId] += outputAmount;\\n    }\\n\\n    function swapAndSettleBalances(\\n        PoolKey calldata key,\\n        IPoolManager.SwapParams memory params\\n    ) internal returns (BalanceDelta) {\\n        // Conduct the swap inside the Pool Manager\\n        BalanceDelta delta = poolManager.swap(key, params, \"\");\\n\\n        // If we just did a zeroForOne swap\\n        // We need to send Token 0 to PM, and receive Token 1 from PM\\n        if (params.zeroForOne) {\\n            // Negative Value => Money leaving user\\'s wallet\\n            // Settle with PoolManager\\n            if (delta.amount0() < 0) {\\n                _settle(key.currency0, uint128(-delta.amount0()));\\n            }\\n\\n            // Positive Value => Money coming into user\\'s wallet\\n            // Take from PM\\n            if (delta.amount1() > 0) {\\n                _take(key.currency1, uint128(delta.amount1()));\\n            }\\n        } else {\\n            if (delta.amount1() < 0) {\\n                _settle(key.currency1, uint128(-delta.amount1()));\\n            }\\n\\n            if (delta.amount0() > 0) {\\n                _take(key.currency0, uint128(delta.amount0()));\\n            }\\n        }\\n\\n        return delta;\\n    }\\n\\n    function _settle(Currency currency, uint128 amount) internal {\\n        // Transfer tokens to PM and let it know\\n        currency.transfer(address(poolManager), amount);\\n        poolManager.settle(currency);\\n    }\\n\\n    function _take(Currency currency, uint128 amount) internal {\\n        // Take tokens out of PM to our hook contract\\n        poolManager.take(currency, address(this), amount);\\n    }\\n\\n    // Helper Functions\\n    function getPositionId(\\n        PoolKey calldata key,\\n        int24 tick,\\n        bool zeroForOne\\n    ) public pure returns (uint256) {\\n        return uint256(keccak256(abi.encode(key.toId(), tick, zeroForOne)));\\n    }\\n\\n    function getLowerUsableTick(\\n        int24 tick,\\n        int24 tickSpacing\\n    ) private pure returns (int24) {\\n        // E.g. tickSpacing = 60, tick = -100\\n        // closest usable tick rounded-down will be -120\\n\\n        // intervals = -100/60 = -1 (integer division)\\n        int24 intervals = tick / tickSpacing;\\n\\n        // since tick < 0, we round `intervals` down to -2\\n        // if tick > 0, `intervals` is fine as it is\\n        if (tick < 0 && tick % tickSpacing != 0) intervals--; // round towards negative infinity\\n\\n        // actual usable tick, then, is intervals * tickSpacing\\n        // i.e. -2 * 60 = -120\\n        return intervals * tickSpacing;\\n    }\\n} \\n\\n\\n\\n\\n----------\\n                     HOOK EXAMPLE 5:\\n                     // SPDX-License-Identifier: MIT\\npragma solidity ^0.8.0;\\n\\nimport {BaseHook} from \"v4-periphery/BaseHook.sol\";\\nimport {IPoolManager} from \"v4-core/interfaces/IPoolManager.sol\";\\nimport {Hooks} from \"v4-core/libraries/Hooks.sol\";\\nimport {PoolKey} from \"v4-core/types/PoolKey.sol\";\\nimport {BalanceDelta} from \"v4-core/types/BalanceDelta.sol\";\\nimport {LPFeeLibrary} from \"v4-core/libraries/LPFeeLibrary.sol\";\\nimport {BeforeSwapDelta, toBeforeSwapDelta} from \"v4-core/types/BeforeSwapDelta.sol\";\\n\\ncontract GasPriceFeesHook is BaseHook {\\n    using LPFeeLibrary for uint24;\\n\\n    // Keeping track of the moving average gas price\\n    uint128 public movingAverageGasPrice;\\n    // How many times has the moving average been updated?\\n    // Needed as the denominator to update it the next time based on the moving average formula\\n    uint104 public movingAverageGasPriceCount;\\n\\n    // The default base fees we will charge\\n    uint24 public constant BASE_FEE = 5000; // 0.5%\\n\\n    error MustUseDynamicFee();\\n\\n    // Initialize BaseHook parent contract in the constructor\\n    constructor(IPoolManager _poolManager) BaseHook(_poolManager) {\\n        updateMovingAverage();\\n    }\\n\\n    // Required override function for BaseHook to let the PoolManager know which hooks are implemented\\n    function getHookPermissions()\\n        public\\n        pure\\n        override\\n        returns (Hooks.Permissions memory)\\n    {\\n        return\\n            Hooks.Permissions({\\n                beforeInitialize: true,\\n                afterInitialize: false,\\n                beforeAddLiquidity: false,\\n                beforeRemoveLiquidity: false,\\n                afterAddLiquidity: false,\\n                afterRemoveLiquidity: false,\\n                beforeSwap: true,\\n                afterSwap: true,\\n                beforeDonate: false,\\n                afterDonate: false,\\n                beforeSwapReturnDelta: false,\\n                afterSwapReturnDelta: false,\\n                afterAddLiquidityReturnDelta: false,\\n                afterRemoveLiquidityReturnDelta: false\\n            });\\n    }\\n\\n    function beforeInitialize(\\n        address,\\n        PoolKey calldata key,\\n        uint160,\\n        bytes calldata\\n    ) external pure override returns (bytes4) {\\n        // `.isDynamicFee()` function comes from using\\n        // the `SwapFeeLibrary` for `uint24`\\n        if (!key.fee.isDynamicFee()) revert MustUseDynamicFee();\\n        return this.beforeInitialize.selector;\\n    }\\n\\n    function beforeSwap(\\n        address,\\n        PoolKey calldata key,\\n        IPoolManager.SwapParams calldata,\\n        bytes calldata\\n    )\\n        external\\n        override\\n        onlyByManager\\n        returns (bytes4, BeforeSwapDelta, uint24)\\n    {\\n        uint24 fee = getFee();\\n        manager.updateDynamicLPFee(key, fee);\\n        return (this.beforeSwap.selector, toBeforeSwapDelta(0, 0), 0);\\n    }\\n\\n    function afterSwap(\\n        address,\\n        PoolKey calldata,\\n        IPoolManager.SwapParams calldata,\\n        BalanceDelta,\\n        bytes calldata\\n    ) external override returns (bytes4, int128) {\\n        updateMovingAverage();\\n        return (this.afterSwap.selector, 0);\\n    }\\n\\n    function getFee() internal view returns (uint24) {\\n        uint128 gasPrice = getGasPrice();\\n\\n        // if gasPrice > movingAverageGasPrice * 1.1, then half the fees\\n        if (gasPrice > (movingAverageGasPrice * 11) / 10) {\\n            return BASE_FEE / 2;\\n        }\\n\\n        // if gasPrice < movingAverageGasPrice * 0.9, then double the fees\\n        if (gasPrice < (movingAverageGasPrice * 9) / 10) {\\n            return BASE_FEE * 2;\\n        }\\n\\n        return BASE_FEE;\\n    }\\n\\n    // Update our moving average gas price\\n    function updateMovingAverage() internal {\\n        uint128 gasPrice = getGasPrice();\\n\\n        // New Average = ((Old Average * # of Txns Tracked) + Current Gas Price) / (# of Txns Tracked + 1)\\n        movingAverageGasPrice =\\n            ((movingAverageGasPrice * movingAverageGasPriceCount) + gasPrice) /\\n            (movingAverageGasPriceCount + 1);\\n\\n        movingAverageGasPriceCount++;\\n    }\\n\\n    // Gets the current gas price of this transaction\\n    // There is no high-level function in Solidity for this, but Solidity-assembly allows this\\n    function getGasPrice() public view returns (uint128) {\\n        uint128 gasPrice;\\n        assembly {\\n            gasPrice := gasprice()\\n        }\\n        return gasPrice;\\n    }\\n} \\n\\n\\n\\n\\n'"
      ]
     },
     "execution_count": 136,
     "metadata": {},
     "output_type": "execute_result"
    }
   ],
   "source": [
    "final_instructions"
   ]
  },
  {
   "cell_type": "code",
   "execution_count": 134,
   "id": "6b6bdbe8-bbc2-4ff6-9d62-28606d536d06",
   "metadata": {},
   "outputs": [],
   "source": [
    "answer = get_claude_answer(final_instructions, prompt)"
   ]
  },
  {
   "cell_type": "code",
   "execution_count": 126,
   "id": "787db549-74ac-4160-bad1-9abf4c078236",
   "metadata": {},
   "outputs": [
    {
     "data": {
      "text/plain": [
       "0.048205"
      ]
     },
     "execution_count": 126,
     "metadata": {},
     "output_type": "execute_result"
    }
   ],
   "source": [
    "get_cost_dollars(final_instructions, answer)"
   ]
  },
  {
   "cell_type": "code",
   "execution_count": 135,
   "id": "99b5843c-21c4-48fd-8537-748eaf24afc2",
   "metadata": {},
   "outputs": [
    {
     "data": {
      "text/markdown": [
       "Certainly! I'll create a hook that sends an ERC20 token to the swapper after a successful swap. This hook will maintain a balance of the ERC20 token and distribute it to users who perform swaps. Here's an implementation of such a hook:\n",
       "\n",
       "```solidity\n",
       "// SPDX-License-Identifier: MIT\n",
       "pragma solidity ^0.8.20;\n",
       "\n",
       "import {BaseHook} from \"v4-periphery/BaseHook.sol\";\n",
       "import {Hooks} from \"@uniswap/v4-core/contracts/libraries/Hooks.sol\";\n",
       "import {IPoolManager} from \"@uniswap/v4-core/contracts/interfaces/IPoolManager.sol\";\n",
       "import {PoolKey} from \"@uniswap/v4-core/contracts/types/PoolKey.sol\";\n",
       "import {BalanceDelta} from \"@uniswap/v4-core/contracts/types/BalanceDelta.sol\";\n",
       "import {IERC20} from \"@openzeppelin/contracts/token/ERC20/IERC20.sol\";\n",
       "import {SafeERC20} from \"@openzeppelin/contracts/token/ERC20/utils/SafeERC20.sol\";\n",
       "\n",
       "contract RewardHook is BaseHook {\n",
       "    using SafeERC20 for IERC20;\n",
       "\n",
       "    IERC20 public immutable rewardToken;\n",
       "    uint256 public constant REWARD_AMOUNT = 1e18; // 1 token\n",
       "\n",
       "    event RewardSent(address indexed user, uint256 amount);\n",
       "\n",
       "    constructor(IPoolManager _poolManager, IERC20 _rewardToken) BaseHook(_poolManager) {\n",
       "        rewardToken = _rewardToken;\n",
       "    }\n",
       "\n",
       "    function getHookPermissions() public pure override returns (Hooks.Permissions memory) {\n",
       "        return Hooks.Permissions({\n",
       "            beforeInitialize: false,\n",
       "            afterInitialize: false,\n",
       "            beforeAddLiquidity: false,\n",
       "            afterAddLiquidity: false,\n",
       "            beforeRemoveLiquidity: false,\n",
       "            afterRemoveLiquidity: false,\n",
       "            beforeSwap: false,\n",
       "            afterSwap: true,\n",
       "            beforeDonate: false,\n",
       "            afterDonate: false\n",
       "        });\n",
       "    }\n",
       "\n",
       "    function afterSwap(\n",
       "        address sender,\n",
       "        PoolKey calldata,\n",
       "        IPoolManager.SwapParams calldata,\n",
       "        BalanceDelta,\n",
       "        bytes calldata\n",
       "    ) external override returns (bytes4) {\n",
       "        // Ensure the hook has enough balance to send the reward\n",
       "        require(rewardToken.balanceOf(address(this)) >= REWARD_AMOUNT, \"Insufficient reward balance\");\n",
       "\n",
       "        // Send the reward to the swapper\n",
       "        rewardToken.safeTransfer(sender, REWARD_AMOUNT);\n",
       "\n",
       "        emit RewardSent(sender, REWARD_AMOUNT);\n",
       "\n",
       "        return BaseHook.afterSwap.selector;\n",
       "    }\n",
       "\n",
       "    // Function to allow the contract owner to withdraw any excess tokens\n",
       "    function withdrawExcessTokens(uint256 amount) external {\n",
       "        require(msg.sender == owner(), \"Only owner can withdraw\");\n",
       "        require(rewardToken.balanceOf(address(this)) >= amount, \"Insufficient balance\");\n",
       "\n",
       "        rewardToken.safeTransfer(msg.sender, amount);\n",
       "    }\n",
       "\n",
       "    // Function to check the current reward token balance of the contract\n",
       "    function getRewardBalance() external view returns (uint256) {\n",
       "        return rewardToken.balanceOf(address(this));\n",
       "    }\n",
       "}\n",
       "```\n",
       "\n",
       "This `RewardHook` contract does the following:\n",
       "\n",
       "1. It imports necessary contracts and libraries, including `SafeERC20` for safe token transfers.\n",
       "\n",
       "2. The contract has a state variable `rewardToken` to store the address of the ERC20 token used for rewards.\n",
       "\n",
       "3. It defines a constant `REWARD_AMOUNT` set to 1 token (assuming 18 decimal places).\n",
       "\n",
       "4. The constructor takes the `IPoolManager` address and the reward token address as parameters.\n",
       "\n",
       "5. The `getHookPermissions()` function is implemented to enable only the `afterSwap` hook.\n",
       "\n",
       "6. The `afterSwap()` function is where the main logic happens:\n",
       "   - It checks if the contract has enough balance to send the reward.\n",
       "   - If so, it sends the `REWARD_"
      ],
      "text/plain": [
       "<IPython.core.display.Markdown object>"
      ]
     },
     "metadata": {},
     "output_type": "display_data"
    }
   ],
   "source": [
    "render_markdown(answer)"
   ]
  },
  {
   "cell_type": "code",
   "execution_count": null,
   "id": "7cffe1d9-d2e1-4af9-aadf-83d18dc83288",
   "metadata": {},
   "outputs": [],
   "source": []
  }
 ],
 "metadata": {
  "kernelspec": {
   "display_name": "3.12.0",
   "language": "python",
   "name": "pyenv_3.12.0"
  },
  "language_info": {
   "codemirror_mode": {
    "name": "ipython",
    "version": 3
   },
   "file_extension": ".py",
   "mimetype": "text/x-python",
   "name": "python",
   "nbconvert_exporter": "python",
   "pygments_lexer": "ipython3",
   "version": "3.12.0"
  }
 },
 "nbformat": 4,
 "nbformat_minor": 5
}
