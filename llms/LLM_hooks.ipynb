{
 "cells": [
  {
   "cell_type": "code",
   "execution_count": 12,
   "id": "abb0dd27-39ba-4141-82ad-d1f9db25d94c",
   "metadata": {},
   "outputs": [
    {
     "data": {
      "text/plain": [
       "True"
      ]
     },
     "execution_count": 12,
     "metadata": {},
     "output_type": "execute_result"
    }
   ],
   "source": [
    "from openai import OpenAI\n",
    "import os\n",
    "from dotenv import load_dotenv, find_dotenv\n",
    "from IPython.display import display, Markdown\n",
    "import tiktoken\n",
    "import os\n",
    "import json\n",
    "import random\n",
    "import subprocess\n",
    "\n",
    "load_dotenv(find_dotenv())"
   ]
  },
  {
   "cell_type": "code",
   "execution_count": 13,
   "id": "5d0cf4dd-350d-4207-b1fe-c882b5e3c5ec",
   "metadata": {},
   "outputs": [],
   "source": [
    "import os\n",
    "from anthropic import Anthropic\n",
    "\n",
    "client = Anthropic(\n",
    "    # This is the default and can be omitted\n",
    "    api_key=os.environ.get(\"ANTHROPIC_API_KEY\"),\n",
    ")\n"
   ]
  },
  {
   "cell_type": "code",
   "execution_count": 14,
   "id": "b8e5b97c-355f-4290-a376-41df4268e074",
   "metadata": {},
   "outputs": [],
   "source": [
    "OpenAI_client = OpenAI(api_key=os.environ.get(\"OPENAI_API_KEY\"))\n",
    "Anthropic_client = Anthropic(api_key=os.environ.get(\"ANTHROPIC_API_KEY\"),\n",
    ")"
   ]
  },
  {
   "cell_type": "code",
   "execution_count": 15,
   "id": "657e182d-70fe-4765-a9ef-94a09c4265f8",
   "metadata": {},
   "outputs": [],
   "source": [
    "def get_n_tokens(text):\n",
    "    enc = tiktoken.encoding_for_model(\"gpt-4o\")\n",
    "    return len(enc.encode(text))\n",
    "\n",
    "def get_openai_answer(instructions, prompt):\n",
    "    completion = OpenAI_client.chat.completions.create(\n",
    "      model=\"gpt-4o\",\n",
    "      messages=[\n",
    "        {\"role\": \"system\", \"content\": instructions},\n",
    "        {\"role\": \"user\", \"content\": prompt}\n",
    "      ]\n",
    "    )\n",
    "    return completion.choices[0].message.content\n",
    "\n",
    "\n",
    "def get_claude_answer(instructions, conversation_history, new_prompt):\n",
    "    conversation_history.append({\"role\": \"user\", \"content\": new_prompt})\n",
    "        \n",
    "    # Call the Claude API with the updated conversation history\n",
    "    message = client.messages.create(\n",
    "        max_tokens=2000,\n",
    "        system=instructions,\n",
    "        messages=conversation_history,\n",
    "        model=\"claude-3-5-sonnet-20240620\",\n",
    "    )\n",
    "    \n",
    "    # Append the Claude's response to the conversation history\n",
    "    conversation_history.append({\"role\": \"assistant\", \"content\": message.content[0].text})\n",
    "    \n",
    "    return message.content[0].text, conversation_history\n",
    "\n",
    "\n",
    "def read_file(file_path):\n",
    "    try:\n",
    "        with open(file_path, 'r') as file:\n",
    "            content = file.read()\n",
    "        return content\n",
    "    except FileNotFoundError:\n",
    "        return \"File not found.\"\n",
    "\n",
    "def read_all_files_in_folder(folder_path):\n",
    "    contents_dict = {}\n",
    "    for filename in os.listdir(folder_path):\n",
    "        if filename[-4:] == \".sol\":\n",
    "            file_path = os.path.join(folder_path, filename)\n",
    "            if os.path.isfile(file_path):\n",
    "                with open(file_path, 'r') as file:\n",
    "                    contents = file.read()\n",
    "                    contents_dict[filename] = contents\n",
    "    return contents_dict\n",
    "\n",
    "def get_cost_dollars(instructions, answer):\n",
    "    input_1k_tokens = 0.005\n",
    "    output_1k_tokens = 0.015\n",
    "    return input_1k_tokens * get_n_tokens(instructions)/1000 + output_1k_tokens * get_n_tokens(answer)/1000\n",
    "\n",
    "def render_markdown(text):\n",
    "    display(Markdown(text))\n",
    "\n",
    "def sample_dict(dictionary, sample_size):\n",
    "    if sample_size > len(dictionary):\n",
    "        raise ValueError(\"Sample size cannot be larger than the dictionary size\")\n",
    "    \n",
    "    sampled_keys = random.sample(list(dictionary.keys()), sample_size)\n",
    "    sampled_dict = {key: dictionary[key] for key in sampled_keys}\n",
    "    \n",
    "    return sampled_dict\n",
    "\n",
    "def save_to_sol(content, folder_path, file_name):\n",
    "    # Ensure the file has the .sol extension\n",
    "    if not file_name.endswith('.sol'):\n",
    "        file_name += '.sol'\n",
    "\n",
    "    # Combine the folder path and file name to get the full file path\n",
    "    file_path = os.path.join(folder_path, file_name)\n",
    "    \n",
    "    # Open the file in write mode and write the content\n",
    "    with open(file_path, 'w') as file:\n",
    "        file.write(content)\n",
    "\n",
    "    print(f\"File {file_path} has been created and saved successfully.\")\n",
    "\n",
    "\n",
    "def compile_contract(file_to_build):\n",
    "\n",
    "    command = f\"forge build src/generated/{file_to_build}\"\n",
    "    working_directory = \"/Users/miquel/Desktop/git/miqlar/cook-some-hooks/foundry_hook_playground\"\n",
    "\n",
    "    # Run the command in the specified directory\n",
    "    result = subprocess.run(command, shell=True, capture_output=True, text=True, cwd=working_directory)\n",
    "\n",
    "    # Return stdout, stderr, and returncode\n",
    "    return result.stdout, result.stderr, result.returncode"
   ]
  },
  {
   "cell_type": "code",
   "execution_count": 16,
   "id": "08fc13dd-7590-459e-b204-c291e3e5e91a",
   "metadata": {},
   "outputs": [],
   "source": [
    "file_path = 'instructions.txt'\n",
    "instructions = read_file(file_path)\n",
    "\n",
    "folder_path = '../foundry_hook_playground/src/examples'\n",
    "file_to_code = read_all_files_in_folder(folder_path)\n",
    "\n",
    "with open(\"hook_examples.json\", 'r') as file:\n",
    "    hook_examples_json = json.load(file)"
   ]
  },
  {
   "cell_type": "code",
   "execution_count": 17,
   "id": "7abbde50-8d6c-4757-9450-cc369d4e6cba",
   "metadata": {},
   "outputs": [
    {
     "data": {
      "text/plain": [
       "dict_keys(['LimitOrder.sol', 'WhiteListHook.sol', 'PointsHook.sol', 'GeomeanOracle.sol', 'MultiSigSwapHook.sol', 'KYCHook.sol', 'ERC721OwnershipHook.sol', 'CounterHook.sol', 'GasPriceFeesHook.sol'])"
      ]
     },
     "execution_count": 17,
     "metadata": {},
     "output_type": "execute_result"
    }
   ],
   "source": [
    "file_to_code.keys()"
   ]
  },
  {
   "cell_type": "code",
   "execution_count": 18,
   "id": "c1605e8e-7071-48bd-973e-20a99d94bdb6",
   "metadata": {},
   "outputs": [],
   "source": [
    "final_instructions = instructions\n",
    "counter = 1\n",
    "\n",
    "#hooks_for_instructions = sample_dict(hook_examples_json, 2)\n",
    "hooks_for_instructions = hook_examples_json\n",
    "\n",
    "for file, summary in (hooks_for_instructions).items():\n",
    "    final_instructions += f\"\"\"----------\\nHOOK EXAMPLE {counter}:\\n\\n\n",
    "    SUMMARY: {summary}\\n\n",
    "    CODE:\\n {file_to_code[file]}\\n\\n\\n------------------\\n\\n\\n\"\"\"\n",
    "    counter+=1\n",
    "\n",
    "final_instructions+=\"OUTPUT: ONLY Solidity code, nothing else - no explanations, summaries or descriptions. ONLY working Solidity code, WITH comments.\""
   ]
  },
  {
   "cell_type": "code",
   "execution_count": 19,
   "id": "b3f9317d-35dc-4898-844f-2c9f362a0573",
   "metadata": {},
   "outputs": [
    {
     "data": {
      "text/plain": [
       "14264"
      ]
     },
     "execution_count": 19,
     "metadata": {},
     "output_type": "execute_result"
    }
   ],
   "source": [
    "get_n_tokens(final_instructions)"
   ]
  },
  {
   "cell_type": "code",
   "execution_count": 20,
   "id": "ac4eb3bc-d10b-411d-8fb5-4d7115e438af",
   "metadata": {},
   "outputs": [],
   "source": [
    "prompt = \"I want a hook that mints an nft on every swap + whitelist that I can control\""
   ]
  },
  {
   "cell_type": "code",
   "execution_count": 21,
   "id": "6b6bdbe8-bbc2-4ff6-9d62-28606d536d06",
   "metadata": {},
   "outputs": [
    {
     "name": "stdout",
     "output_type": "stream",
     "text": [
      "File ../foundry_hook_playground/src/generated/test_0.sol has been created and saved successfully.\n",
      "Error: \n",
      "Compiler run failed:\n",
      "Error (7920): Identifier not found or not unique.\n",
      "  --> src/generated/test_0.sol:46:26:\n",
      "   |\n",
      "46 |         returns (bytes4, BeforeSwapDelta, uint24)\n",
      "   |                          ^^^^^^^^^^^^^^^\n",
      "\n",
      "\n",
      "-----------------------\n",
      "File ../foundry_hook_playground/src/generated/test_1.sol has been created and saved successfully.\n",
      "Error: \n",
      "Compiler run failed:\n",
      "Error (2558): Exactly one argument expected for explicit type conversion.\n",
      "  --> src/generated/test_1.sol:50:47:\n",
      "   |\n",
      "50 |         return (BaseHook.beforeSwap.selector, BeforeSwapDelta(0, 0), 0);\n",
      "   |                                               ^^^^^^^^^^^^^^^^^^^^^\n",
      "\n",
      "\n",
      "-----------------------\n",
      "File ../foundry_hook_playground/src/generated/test_2.sol has been created and saved successfully.\n",
      "🎉 🎉 Contract compiled! 🎉 🎉\n"
     ]
    }
   ],
   "source": [
    "attempt_counter = 0\n",
    "conversation_history = []\n",
    "returncode =- 1\n",
    "\n",
    "while (attempt_counter<5) and (returncode!=0):\n",
    "    file_name = f\"test_{attempt_counter}.sol\"\n",
    "    answer, conversation_history = get_claude_answer(final_instructions, conversation_history, prompt)\n",
    "    save_to_sol(answer, \"../foundry_hook_playground/src/generated/\", file_name)\n",
    "    stdout, stderr, returncode = compile_contract(file_name)\n",
    "    prompt = \"I get this error when compiling the contract: \\n\\n\"+stderr+\"\\n\\nOUTPUT: Only the fixed solidity code\"\n",
    "    if (returncode)!=0:\n",
    "        print(stderr)\n",
    "        print(\"-----------------------\")\n",
    "    else:\n",
    "        print(\"\\U0001F389 \\U0001F389 Contract compiled! \\U0001F389 \\U0001F389\")\n",
    "    attempt_counter+=1"
   ]
  },
  {
   "cell_type": "code",
   "execution_count": null,
   "id": "01a0fda8-b218-4f75-bcee-4fdcef6c6567",
   "metadata": {},
   "outputs": [],
   "source": []
  }
 ],
 "metadata": {
  "kernelspec": {
   "display_name": "3.12.0",
   "language": "python",
   "name": "pyenv_3.12.0"
  },
  "language_info": {
   "codemirror_mode": {
    "name": "ipython",
    "version": 3
   },
   "file_extension": ".py",
   "mimetype": "text/x-python",
   "name": "python",
   "nbconvert_exporter": "python",
   "pygments_lexer": "ipython3",
   "version": "3.12.0"
  }
 },
 "nbformat": 4,
 "nbformat_minor": 5
}
